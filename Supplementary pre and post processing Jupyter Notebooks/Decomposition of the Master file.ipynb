{
 "cells": [
  {
   "cell_type": "code",
   "execution_count": 1,
   "metadata": {},
   "outputs": [],
   "source": [
    "import pandas as pd\n",
    "import numpy as np\n",
    "import re"
   ]
  },
  {
   "cell_type": "code",
   "execution_count": 2,
   "metadata": {},
   "outputs": [
    {
     "name": "stderr",
     "output_type": "stream",
     "text": [
      "C:\\ProgramData\\Anaconda3\\lib\\site-packages\\IPython\\core\\interactiveshell.py:3057: DtypeWarning: Columns (10,16) have mixed types. Specify dtype option on import or set low_memory=False.\n",
      "  interactivity=interactivity, compiler=compiler, result=result)\n"
     ]
    }
   ],
   "source": [
    "post_master = pd.read_csv('master_latest.csv', keep_default_na=False)"
   ]
  },
  {
   "cell_type": "code",
   "execution_count": null,
   "metadata": {},
   "outputs": [],
   "source": []
  },
  {
   "cell_type": "code",
   "execution_count": null,
   "metadata": {},
   "outputs": [],
   "source": [
    "# ONLY RUN THIS CELL IF pd.read_csv IN THE ABOVE DOES NOT WORK\n",
    "\n",
    "import chardet\n",
    "\n",
    "file = 'master_latest.csv'\n",
    "\n",
    "with open(file, 'rb') as rawdata:\n",
    "    result = chardet.detect(rawdata.read(200000))\n",
    "result"
   ]
  },
  {
   "cell_type": "code",
   "execution_count": null,
   "metadata": {},
   "outputs": [],
   "source": [
    "# ONLY RUN THIS CELL IF pd.read_csv IN THE ABOVE DOES NOT WORK\n",
    "\n",
    "file_encoding = 'utf8'        # set file_encoding to the file encoding [utf8, ascii(normally not reliable), latin1, Windows-1252, etc.]\n",
    "input_fd = open('master_latest.csv', encoding=file_encoding, errors = 'backslashreplace')\n",
    "\n",
    "post_master = pd.read_csv(input_fd, keep_default_na=False)"
   ]
  },
  {
   "cell_type": "code",
   "execution_count": null,
   "metadata": {},
   "outputs": [],
   "source": []
  },
  {
   "cell_type": "code",
   "execution_count": 3,
   "metadata": {},
   "outputs": [],
   "source": [
    "# CHANGE this if deferred records are present (default should be zero)\n",
    "\n",
    "deferred_num = 0"
   ]
  },
  {
   "cell_type": "code",
   "execution_count": 4,
   "metadata": {},
   "outputs": [
    {
     "data": {
      "text/plain": [
       "264322"
      ]
     },
     "execution_count": 4,
     "metadata": {},
     "output_type": "execute_result"
    }
   ],
   "source": [
    "# Check that this number agrees with its counterpart from the ORIGINAL Master\n",
    "\n",
    "p_m = post_master.shape\n",
    "p_m[0] + deferred_num"
   ]
  },
  {
   "cell_type": "code",
   "execution_count": 5,
   "metadata": {},
   "outputs": [],
   "source": [
    "post_master.loc[post_master.date_start == '16.11.2ß', 'date_start'] = '2020/11/16'"
   ]
  },
  {
   "cell_type": "code",
   "execution_count": 6,
   "metadata": {},
   "outputs": [],
   "source": [
    "# Remove Non-standard characters\n",
    "\n",
    "post_master.replace({r'[^\\x00-\\x7F]+':''}, regex=True, inplace=True)"
   ]
  },
  {
   "cell_type": "code",
   "execution_count": 7,
   "metadata": {},
   "outputs": [],
   "source": [
    "# Remove quotation marks in the 'comments' column\n",
    "\n",
    "post_master.comments = post_master.comments.str.replace('\"', '')"
   ]
  },
  {
   "cell_type": "code",
   "execution_count": null,
   "metadata": {},
   "outputs": [],
   "source": []
  },
  {
   "cell_type": "code",
   "execution_count": 8,
   "metadata": {},
   "outputs": [
    {
     "data": {
      "text/plain": [
       "264322"
      ]
     },
     "execution_count": 8,
     "metadata": {},
     "output_type": "execute_result"
    }
   ],
   "source": [
    "# Also check that this number agrees with its counterpart from the ORIGINAL Master\n",
    "\n",
    "p_m_1 = post_master.shape\n",
    "p_m_1[0] + deferred_num"
   ]
  },
  {
   "cell_type": "code",
   "execution_count": 9,
   "metadata": {},
   "outputs": [
    {
     "data": {
      "text/html": [
       "<div>\n",
       "<style scoped>\n",
       "    .dataframe tbody tr th:only-of-type {\n",
       "        vertical-align: middle;\n",
       "    }\n",
       "\n",
       "    .dataframe tbody tr th {\n",
       "        vertical-align: top;\n",
       "    }\n",
       "\n",
       "    .dataframe thead th {\n",
       "        text-align: right;\n",
       "    }\n",
       "</style>\n",
       "<table border=\"1\" class=\"dataframe\">\n",
       "  <thead>\n",
       "    <tr style=\"text-align: right;\">\n",
       "      <th></th>\n",
       "      <th>processed</th>\n",
       "      <th>who_id</th>\n",
       "      <th>dataset</th>\n",
       "      <th>prop_id</th>\n",
       "      <th>keep</th>\n",
       "      <th>duplicate_record_id</th>\n",
       "      <th>split</th>\n",
       "      <th>who_region</th>\n",
       "      <th>country_territory_area</th>\n",
       "      <th>iso</th>\n",
       "      <th>...</th>\n",
       "      <th>date_processed</th>\n",
       "      <th>uuid</th>\n",
       "      <th>original_who_code</th>\n",
       "      <th>who_id_original</th>\n",
       "      <th>flag</th>\n",
       "      <th>old_targeted</th>\n",
       "      <th>country_orig</th>\n",
       "      <th>level_orig</th>\n",
       "      <th>area_orig</th>\n",
       "      <th>date_start_orig</th>\n",
       "    </tr>\n",
       "  </thead>\n",
       "  <tbody>\n",
       "    <tr>\n",
       "      <th>0</th>\n",
       "      <td>sequenced</td>\n",
       "      <td>OXCGRT_1667820</td>\n",
       "      <td>OXCGRT</td>\n",
       "      <td></td>\n",
       "      <td>y</td>\n",
       "      <td></td>\n",
       "      <td>n</td>\n",
       "      <td>EMRO</td>\n",
       "      <td>Afghanistan</td>\n",
       "      <td>AFG</td>\n",
       "      <td>...</td>\n",
       "      <td>4/7/2021</td>\n",
       "      <td>23de48e9-4f8b-4562-b946-59df3afe346a</td>\n",
       "      <td>7.2</td>\n",
       "      <td>OXCGRT_1667820</td>\n",
       "      <td>1</td>\n",
       "      <td>Health care workers</td>\n",
       "      <td>Afghanistan</td>\n",
       "      <td>national</td>\n",
       "      <td></td>\n",
       "      <td>2/23/2021</td>\n",
       "    </tr>\n",
       "    <tr>\n",
       "      <th>1</th>\n",
       "      <td>sequenced</td>\n",
       "      <td>OXCGRT_1667821</td>\n",
       "      <td>OXCGRT</td>\n",
       "      <td></td>\n",
       "      <td>y</td>\n",
       "      <td></td>\n",
       "      <td>n</td>\n",
       "      <td>EMRO</td>\n",
       "      <td>Afghanistan</td>\n",
       "      <td>AFG</td>\n",
       "      <td>...</td>\n",
       "      <td>4/7/2021</td>\n",
       "      <td>a9d8d08f-3c5b-44d7-801f-ab0ab4b0cee4</td>\n",
       "      <td>7.2</td>\n",
       "      <td>OXCGRT_1667821</td>\n",
       "      <td>1</td>\n",
       "      <td>health care workers, military</td>\n",
       "      <td>Afghanistan</td>\n",
       "      <td>national</td>\n",
       "      <td></td>\n",
       "      <td>3/1/2021</td>\n",
       "    </tr>\n",
       "    <tr>\n",
       "      <th>2</th>\n",
       "      <td>sequenced</td>\n",
       "      <td>OXCGRT_1667827</td>\n",
       "      <td>OXCGRT</td>\n",
       "      <td></td>\n",
       "      <td>y</td>\n",
       "      <td></td>\n",
       "      <td>n</td>\n",
       "      <td>EMRO</td>\n",
       "      <td>Afghanistan</td>\n",
       "      <td>AFG</td>\n",
       "      <td>...</td>\n",
       "      <td>4/7/2021</td>\n",
       "      <td>2b045108-9789-4bad-a43d-981d5b4b32b4</td>\n",
       "      <td>7.2</td>\n",
       "      <td>OXCGRT_1667827</td>\n",
       "      <td>1</td>\n",
       "      <td>healthcare workers,military, education</td>\n",
       "      <td>Afghanistan</td>\n",
       "      <td>national</td>\n",
       "      <td></td>\n",
       "      <td>3/16/2021</td>\n",
       "    </tr>\n",
       "    <tr>\n",
       "      <th>3</th>\n",
       "      <td>sequenced</td>\n",
       "      <td>OXCGRT_2536314</td>\n",
       "      <td>OXCGRT</td>\n",
       "      <td></td>\n",
       "      <td>y</td>\n",
       "      <td></td>\n",
       "      <td>n</td>\n",
       "      <td>EMRO</td>\n",
       "      <td>Afghanistan</td>\n",
       "      <td>AFG</td>\n",
       "      <td>...</td>\n",
       "      <td>5/25/2021</td>\n",
       "      <td>a67f5930-d8ea-4705-b2f8-b6bf452e7260</td>\n",
       "      <td>7.2</td>\n",
       "      <td>OXCGRT_2536314</td>\n",
       "      <td>1</td>\n",
       "      <td>age group, 40-49</td>\n",
       "      <td>Afghanistan</td>\n",
       "      <td>national</td>\n",
       "      <td></td>\n",
       "      <td>5/4/2021</td>\n",
       "    </tr>\n",
       "    <tr>\n",
       "      <th>4</th>\n",
       "      <td>sequenced</td>\n",
       "      <td>OXCGRT_2989542</td>\n",
       "      <td>OXCGRT</td>\n",
       "      <td></td>\n",
       "      <td>y</td>\n",
       "      <td></td>\n",
       "      <td>n</td>\n",
       "      <td>EMRO</td>\n",
       "      <td>Afghanistan</td>\n",
       "      <td>AFG</td>\n",
       "      <td>...</td>\n",
       "      <td>6/7/2021</td>\n",
       "      <td>61ca2031-ef90-459e-838d-dd11c87b173a</td>\n",
       "      <td>7.2</td>\n",
       "      <td>OXCGRT_2989542</td>\n",
       "      <td>1</td>\n",
       "      <td>healthcare workers,military,education</td>\n",
       "      <td>Afghanistan</td>\n",
       "      <td>national</td>\n",
       "      <td></td>\n",
       "      <td>6/14/2021</td>\n",
       "    </tr>\n",
       "  </tbody>\n",
       "</table>\n",
       "<p>5 rows × 54 columns</p>\n",
       "</div>"
      ],
      "text/plain": [
       "   processed          who_id dataset prop_id keep duplicate_record_id split  \\\n",
       "0  sequenced  OXCGRT_1667820  OXCGRT            y                         n   \n",
       "1  sequenced  OXCGRT_1667821  OXCGRT            y                         n   \n",
       "2  sequenced  OXCGRT_1667827  OXCGRT            y                         n   \n",
       "3  sequenced  OXCGRT_2536314  OXCGRT            y                         n   \n",
       "4  sequenced  OXCGRT_2989542  OXCGRT            y                         n   \n",
       "\n",
       "  who_region country_territory_area  iso  ... date_processed  \\\n",
       "0       EMRO            Afghanistan  AFG  ...       4/7/2021   \n",
       "1       EMRO            Afghanistan  AFG  ...       4/7/2021   \n",
       "2       EMRO            Afghanistan  AFG  ...       4/7/2021   \n",
       "3       EMRO            Afghanistan  AFG  ...      5/25/2021   \n",
       "4       EMRO            Afghanistan  AFG  ...       6/7/2021   \n",
       "\n",
       "                                   uuid original_who_code who_id_original  \\\n",
       "0  23de48e9-4f8b-4562-b946-59df3afe346a               7.2  OXCGRT_1667820   \n",
       "1  a9d8d08f-3c5b-44d7-801f-ab0ab4b0cee4               7.2  OXCGRT_1667821   \n",
       "2  2b045108-9789-4bad-a43d-981d5b4b32b4               7.2  OXCGRT_1667827   \n",
       "3  a67f5930-d8ea-4705-b2f8-b6bf452e7260               7.2  OXCGRT_2536314   \n",
       "4  61ca2031-ef90-459e-838d-dd11c87b173a               7.2  OXCGRT_2989542   \n",
       "\n",
       "  flag                            old_targeted country_orig level_orig  \\\n",
       "0    1                     Health care workers  Afghanistan   national   \n",
       "1    1           health care workers, military  Afghanistan   national   \n",
       "2    1  healthcare workers,military, education  Afghanistan   national   \n",
       "3    1                       age group, 40-49   Afghanistan   national   \n",
       "4    1   healthcare workers,military,education  Afghanistan   national   \n",
       "\n",
       "  area_orig date_start_orig  \n",
       "0                 2/23/2021  \n",
       "1                  3/1/2021  \n",
       "2                 3/16/2021  \n",
       "3                  5/4/2021  \n",
       "4                 6/14/2021  \n",
       "\n",
       "[5 rows x 54 columns]"
      ]
     },
     "execution_count": 9,
     "metadata": {},
     "output_type": "execute_result"
    }
   ],
   "source": [
    "post_master.head()"
   ]
  },
  {
   "cell_type": "code",
   "execution_count": 10,
   "metadata": {},
   "outputs": [],
   "source": [
    "# Test for future dates\n",
    "\n",
    "date_start_p = post_master['date_start'].astype('datetime64[ns]')"
   ]
  },
  {
   "cell_type": "code",
   "execution_count": 11,
   "metadata": {},
   "outputs": [
    {
     "data": {
      "text/plain": [
       "Timestamp('1900-01-13 00:00:00')"
      ]
     },
     "execution_count": 11,
     "metadata": {},
     "output_type": "execute_result"
    }
   ],
   "source": [
    "date_start_p.min()"
   ]
  },
  {
   "cell_type": "code",
   "execution_count": 12,
   "metadata": {},
   "outputs": [
    {
     "data": {
      "text/plain": [
       "Timestamp('2022-08-22 00:00:00')"
      ]
     },
     "execution_count": 12,
     "metadata": {},
     "output_type": "execute_result"
    }
   ],
   "source": [
    "date_start_p.max()"
   ]
  },
  {
   "cell_type": "code",
   "execution_count": 13,
   "metadata": {},
   "outputs": [
    {
     "data": {
      "text/plain": [
       "Timestamp('2022-08-23 22:08:10.692329')"
      ]
     },
     "execution_count": 13,
     "metadata": {},
     "output_type": "execute_result"
    }
   ],
   "source": [
    "today = pd.to_datetime(\"today\")\n",
    "today"
   ]
  },
  {
   "cell_type": "code",
   "execution_count": 14,
   "metadata": {},
   "outputs": [
    {
     "data": {
      "text/plain": [
       "0"
      ]
     },
     "execution_count": 14,
     "metadata": {},
     "output_type": "execute_result"
    }
   ],
   "source": [
    "# Count the number of instances where the date_start column has a future date\n",
    "# Typically it should not be much more than around 30.\n",
    "\n",
    "((date_start_p > today) == True).sum()"
   ]
  },
  {
   "cell_type": "code",
   "execution_count": 15,
   "metadata": {},
   "outputs": [
    {
     "data": {
      "text/plain": [
       "(array([], dtype=int64), array([], dtype=int64))"
      ]
     },
     "execution_count": 15,
     "metadata": {},
     "output_type": "execute_result"
    }
   ],
   "source": [
    "# Check for fully blank rows. \n",
    "\n",
    "np.where(pd.isnull(post_master))"
   ]
  },
  {
   "cell_type": "code",
   "execution_count": null,
   "metadata": {},
   "outputs": [],
   "source": [
    "# Now check for 'shearing' of the columns (blanks are ok in the drop-down menus at this stage)."
   ]
  },
  {
   "cell_type": "code",
   "execution_count": 16,
   "metadata": {},
   "outputs": [
    {
     "data": {
      "text/plain": [
       "array(['new', 'modification', 'extension', 'phase-out', 're-introduction',\n",
       "       'finish', '', 'extension ', 'new '], dtype=object)"
      ]
     },
     "execution_count": 16,
     "metadata": {},
     "output_type": "execute_result"
    }
   ],
   "source": [
    "post_master.measure_stage.unique()"
   ]
  },
  {
   "cell_type": "code",
   "execution_count": 17,
   "metadata": {},
   "outputs": [
    {
     "data": {
      "text/plain": [
       "array(['modification', 'new', 'extension', 'phase-out', 'finish',\n",
       "       're-introduction', '', 'time limited', 'time limited ', ' '],\n",
       "      dtype=object)"
      ]
     },
     "execution_count": 17,
     "metadata": {},
     "output_type": "execute_result"
    }
   ],
   "source": [
    "post_master.reason_ended.unique()"
   ]
  },
  {
   "cell_type": "code",
   "execution_count": 18,
   "metadata": {},
   "outputs": [
    {
     "data": {
      "text/plain": [
       "array(['not applicable', 'recommended', 'required', 'monitored',\n",
       "       'not known', 'required ', 'monitored ', '', ' not applicable'],\n",
       "      dtype=object)"
      ]
     },
     "execution_count": 18,
     "metadata": {},
     "output_type": "execute_result"
    }
   ],
   "source": [
    "post_master.enforcement.unique()"
   ]
  },
  {
   "cell_type": "code",
   "execution_count": 19,
   "metadata": {},
   "outputs": [
    {
     "data": {
      "text/plain": [
       "array(['not applicable', 'not known', 'refused entry', 'fines', 'other',\n",
       "       'up to detention', 'refused exit', 'legal action',\n",
       "       'arrest/detention', 'not known ', 'refused entry ', 'other ', ''],\n",
       "      dtype=object)"
      ]
     },
     "execution_count": 19,
     "metadata": {},
     "output_type": "execute_result"
    }
   ],
   "source": [
    "post_master.non_compliance_penalty.unique()"
   ]
  },
  {
   "cell_type": "code",
   "execution_count": 20,
   "metadata": {},
   "outputs": [
    {
     "data": {
      "text/plain": [
       "array(['unknown', 'EPI', 'VOC', 'other', 'epi', 'other ', 'Epi', 'voc',\n",
       "       'Other', ''], dtype=object)"
      ]
     },
     "execution_count": 20,
     "metadata": {},
     "output_type": "execute_result"
    }
   ],
   "source": [
    "post_master.trigger.unique()"
   ]
  },
  {
   "cell_type": "code",
   "execution_count": 21,
   "metadata": {},
   "outputs": [
    {
     "data": {
      "text/plain": [
       "array(['yes', 'no', 'unknown', 'Yes', '', 'YES'], dtype=object)"
      ]
     },
     "execution_count": 21,
     "metadata": {},
     "output_type": "execute_result"
    }
   ],
   "source": [
    "post_master.link_live.unique()"
   ]
  },
  {
   "cell_type": "code",
   "execution_count": 22,
   "metadata": {},
   "outputs": [
    {
     "data": {
      "text/plain": [
       "array(['no', 'yes', 'unknown', 'No', 'NO', 'Yes', ''], dtype=object)"
      ]
     },
     "execution_count": 22,
     "metadata": {},
     "output_type": "execute_result"
    }
   ],
   "source": [
    "post_master.link_eng.unique()"
   ]
  },
  {
   "cell_type": "code",
   "execution_count": 23,
   "metadata": {},
   "outputs": [
    {
     "data": {
      "text/plain": [
       "0"
      ]
     },
     "execution_count": 23,
     "metadata": {},
     "output_type": "execute_result"
    }
   ],
   "source": [
    "# Check that the who_region column contains no blank cells\n",
    "\n",
    "post_master['who_region'].isnull().sum()"
   ]
  },
  {
   "cell_type": "code",
   "execution_count": 24,
   "metadata": {},
   "outputs": [
    {
     "data": {
      "text/plain": [
       "array(['national', 'other', 'state'], dtype=object)"
      ]
     },
     "execution_count": 24,
     "metadata": {},
     "output_type": "execute_result"
    }
   ],
   "source": [
    "# Check that the admin_level column only contains allowed values\n",
    "\n",
    "post_master.admin_level.unique()"
   ]
  },
  {
   "cell_type": "code",
   "execution_count": 25,
   "metadata": {},
   "outputs": [
    {
     "data": {
      "text/plain": [
       "0"
      ]
     },
     "execution_count": 25,
     "metadata": {},
     "output_type": "execute_result"
    }
   ],
   "source": [
    "# Check that the admin_level column contains no blank cells\n",
    "\n",
    "post_master['admin_level'].isnull().sum()"
   ]
  },
  {
   "cell_type": "code",
   "execution_count": null,
   "metadata": {},
   "outputs": [],
   "source": []
  },
  {
   "cell_type": "code",
   "execution_count": 26,
   "metadata": {},
   "outputs": [],
   "source": [
    "# Check the file generated. This can be used as the input for next weeks run. \n",
    "\n",
    "post_master.to_csv('master_Following_week.csv', index=False)"
   ]
  },
  {
   "cell_type": "code",
   "execution_count": null,
   "metadata": {},
   "outputs": [],
   "source": [
    "# OLD SYSTEM. Remember to manually extract the rows with who codes 10 to 14 from this file and save it\n",
    "\n",
    "# post_master.to_csv('post_master_not_10_to_14.csv', index=False)"
   ]
  },
  {
   "cell_type": "code",
   "execution_count": 27,
   "metadata": {},
   "outputs": [
    {
     "data": {
      "text/plain": [
       "264322"
      ]
     },
     "execution_count": 27,
     "metadata": {},
     "output_type": "execute_result"
    }
   ],
   "source": [
    "# Also check that this number agrees with its counterpart from the ORIGINAL Master\n",
    "\n",
    "post_master_count = post_master.shape[0]\n",
    "post_master_count"
   ]
  },
  {
   "cell_type": "code",
   "execution_count": null,
   "metadata": {},
   "outputs": [],
   "source": []
  },
  {
   "cell_type": "code",
   "execution_count": null,
   "metadata": {},
   "outputs": [],
   "source": []
  },
  {
   "cell_type": "code",
   "execution_count": null,
   "metadata": {},
   "outputs": [],
   "source": [
    "# OLD SYSTEM. Note that by loading in this file, post_master now does not contain codes 10 to 14\n",
    "\n",
    "# post_master = pd.read_csv('post_master_not_10_to_14.csv', keep_default_na=False)"
   ]
  },
  {
   "cell_type": "code",
   "execution_count": null,
   "metadata": {},
   "outputs": [],
   "source": [
    "# OLD SYSTEM.\n",
    "\n",
    "# post_master_not_10_to_14_count = post_master.shape[0]\n",
    "# post_master_not_10_to_14_count"
   ]
  },
  {
   "cell_type": "code",
   "execution_count": null,
   "metadata": {},
   "outputs": [],
   "source": []
  },
  {
   "cell_type": "code",
   "execution_count": null,
   "metadata": {},
   "outputs": [],
   "source": [
    "# EURO_not_2020 = pd.read_csv('master_2020_EURO_nc.csv', keep_default_na=False)"
   ]
  },
  {
   "cell_type": "code",
   "execution_count": null,
   "metadata": {},
   "outputs": [],
   "source": [
    "# post_master = EURO_not_2020"
   ]
  },
  {
   "cell_type": "code",
   "execution_count": null,
   "metadata": {},
   "outputs": [],
   "source": []
  },
  {
   "cell_type": "code",
   "execution_count": null,
   "metadata": {},
   "outputs": [],
   "source": [
    "# IGNORE this block for the time being\n",
    "\n",
    "# Now remove rows with who_codes 10 to 14 and save them into a separate file\n",
    "\n",
    "# code_10_to_14_list = ['14', '11', '12', '13', '14'] "
   ]
  },
  {
   "cell_type": "code",
   "execution_count": null,
   "metadata": {},
   "outputs": [],
   "source": [
    "# Extracted_10_to_14 = post_master[post_master.who_code.isin(code_10_to_14_list)]\n",
    "# Extracted_10_to_14"
   ]
  },
  {
   "cell_type": "code",
   "execution_count": null,
   "metadata": {},
   "outputs": [],
   "source": [
    "# post_master_not_10_to_14 = post_master[~post_master['who_code'].isin(code_10_to_14_list)]\n",
    "# post_master_not_10_to_14"
   ]
  },
  {
   "cell_type": "code",
   "execution_count": null,
   "metadata": {},
   "outputs": [],
   "source": [
    "# code_10_to_14_count = Extracted_10_to_14.shape[0]\n",
    "# code_10_to_14_count"
   ]
  },
  {
   "cell_type": "code",
   "execution_count": null,
   "metadata": {},
   "outputs": [],
   "source": [
    "# post_master_not_10_to_14_count = post_master_not_10_to_14.shape[0]\n",
    "# post_master_not_10_to_14_count"
   ]
  },
  {
   "cell_type": "code",
   "execution_count": null,
   "metadata": {},
   "outputs": [],
   "source": [
    "# check numbers - do the two data blocks sum to the original number?\n",
    "\n",
    "# code_10_to_14_count + post_master_not_10_to_14_count == post_master_count"
   ]
  },
  {
   "cell_type": "code",
   "execution_count": null,
   "metadata": {},
   "outputs": [],
   "source": [
    "# CHANGE the date\n",
    "\n",
    "# Extracted_10_to_14.to_csv('10_to_14_who_codes_2022_05_24.csv', index=False)"
   ]
  },
  {
   "cell_type": "code",
   "execution_count": null,
   "metadata": {},
   "outputs": [],
   "source": []
  },
  {
   "cell_type": "code",
   "execution_count": null,
   "metadata": {},
   "outputs": [],
   "source": [
    "# Find the row indexes corresponding to blank who_ids '16.11.2ÃŸ'\n",
    "# non_alphanumeric_row = post_master[post_master['date_start'] == '16.11.2ß'].index"
   ]
  },
  {
   "cell_type": "code",
   "execution_count": null,
   "metadata": {},
   "outputs": [],
   "source": []
  },
  {
   "cell_type": "code",
   "execution_count": null,
   "metadata": {},
   "outputs": [],
   "source": [
    "# CONTINUE here"
   ]
  },
  {
   "cell_type": "code",
   "execution_count": null,
   "metadata": {},
   "outputs": [],
   "source": [
    "master_sequenced = post_master[post_master['processed']=='sequenced']"
   ]
  },
  {
   "cell_type": "code",
   "execution_count": null,
   "metadata": {},
   "outputs": [],
   "source": [
    "# The below-mentioned remark no longer applies - instead check directly in Excel\n",
    "# Is this number consistent with what is in the ORIGINAL Master?\n",
    "\n",
    "master_sequenced.shape"
   ]
  },
  {
   "cell_type": "code",
   "execution_count": null,
   "metadata": {},
   "outputs": [],
   "source": [
    "master_sequenced.to_csv('master_sequenced.csv', index=False)"
   ]
  },
  {
   "cell_type": "code",
   "execution_count": null,
   "metadata": {},
   "outputs": [],
   "source": [
    "master_not_cleansed = post_master[post_master['processed']=='not_cleansed']"
   ]
  },
  {
   "cell_type": "code",
   "execution_count": null,
   "metadata": {},
   "outputs": [],
   "source": [
    "master_not_cleansed"
   ]
  },
  {
   "cell_type": "code",
   "execution_count": null,
   "metadata": {},
   "outputs": [],
   "source": [
    "# Is this number consistent with what is in the ORIGINAL Master?\n",
    "\n",
    "m_n_c = master_not_cleansed.shape\n",
    "m_n_c[0] + deferred_num"
   ]
  },
  {
   "cell_type": "code",
   "execution_count": null,
   "metadata": {},
   "outputs": [],
   "source": [
    "# OLD SYSTEM\n",
    "\n",
    "# num_not_cleansed_10_to_14 = 0  # 243 in last weeks actual run"
   ]
  },
  {
   "cell_type": "code",
   "execution_count": null,
   "metadata": {},
   "outputs": [],
   "source": [
    "# The de-duplication is to be performed on OXFORD ONLY rows, and not EURO.\n",
    "\n",
    "Oxford_not_cleansed = master_not_cleansed[master_not_cleansed['dataset']=='OXCGRT']"
   ]
  },
  {
   "cell_type": "code",
   "execution_count": null,
   "metadata": {},
   "outputs": [],
   "source": [
    "Oxford_not_cleansed"
   ]
  },
  {
   "cell_type": "code",
   "execution_count": null,
   "metadata": {},
   "outputs": [],
   "source": [
    "# master_not_cleansed[master_not_cleansed['dataset']=='OXCGRT']"
   ]
  },
  {
   "cell_type": "code",
   "execution_count": null,
   "metadata": {},
   "outputs": [],
   "source": [
    "# For Oxford only, display a list of the repeated rows, putting aside the unique list of each row.  \n",
    "\n",
    "duplicated_rows = Oxford_not_cleansed.duplicated([\"country_territory_area\", \"area_covered\", \"who_code\", \"date_start\",\"prov_measure\"],keep=False)"
   ]
  },
  {
   "cell_type": "code",
   "execution_count": null,
   "metadata": {},
   "outputs": [],
   "source": [
    "duplicated_rows"
   ]
  },
  {
   "cell_type": "code",
   "execution_count": null,
   "metadata": {},
   "outputs": [],
   "source": [
    "Master_nc_duplicated = Oxford_not_cleansed[duplicated_rows]"
   ]
  },
  {
   "cell_type": "code",
   "execution_count": null,
   "metadata": {},
   "outputs": [],
   "source": [
    "Master_nc_duplicated"
   ]
  },
  {
   "cell_type": "code",
   "execution_count": null,
   "metadata": {},
   "outputs": [],
   "source": [
    "# We now convert all DUPLICATES to code 12 (not natural continuations - code 13 will be later assigned to those).\n",
    "# Can NOT skip this step, even when there are no Oxford duplicates, ....... \n",
    "# ......as master_nc_duplicated_conv is required later."
   ]
  },
  {
   "cell_type": "code",
   "execution_count": null,
   "metadata": {},
   "outputs": [],
   "source": [
    "def summarize(group):\n",
    "    # Everything inside the `group` dataframe is\n",
    "    # a duplicate of its first row\n",
    "    cond = group.index != group.index[0]\n",
    "    group.loc[cond, 'duplicate_record_id'] = group.iloc[0]['who_id']\n",
    "    group.loc[cond, 'who_code'] = '12'\n",
    "    group.loc[cond, 'keep'] = 'n'\n",
    "    return group\n",
    "\n"
   ]
  },
  {
   "cell_type": "code",
   "execution_count": null,
   "metadata": {},
   "outputs": [],
   "source": [
    "master_nc_duplicated_conv = Master_nc_duplicated.groupby([\"country_territory_area\", \"dataset\", \"area_covered\", \"who_code\", \"date_start\",\"prov_measure\"]).apply(summarize)"
   ]
  },
  {
   "cell_type": "code",
   "execution_count": null,
   "metadata": {},
   "outputs": [],
   "source": [
    "master_nc_duplicated_conv"
   ]
  },
  {
   "cell_type": "code",
   "execution_count": null,
   "metadata": {},
   "outputs": [],
   "source": []
  },
  {
   "cell_type": "code",
   "execution_count": null,
   "metadata": {},
   "outputs": [],
   "source": [
    "# master_nc_duplicated_conv['who_code']"
   ]
  },
  {
   "cell_type": "code",
   "execution_count": null,
   "metadata": {},
   "outputs": [],
   "source": []
  },
  {
   "cell_type": "code",
   "execution_count": null,
   "metadata": {},
   "outputs": [],
   "source": [
    "# duplicated_rows = master_not_cleansed.duplicated([\"country_territory_area\", \"dataset\", \"area_covered\", \"who_code\", \"date_start\",\"prov_measure\"],keep=False)"
   ]
  },
  {
   "cell_type": "code",
   "execution_count": null,
   "metadata": {},
   "outputs": [],
   "source": [
    "# master_not_cleansed[duplicated_rows]"
   ]
  },
  {
   "cell_type": "code",
   "execution_count": null,
   "metadata": {},
   "outputs": [],
   "source": [
    "# Total number of Oxford duplicates\n",
    "\n",
    "duplicated_rows.sum()"
   ]
  },
  {
   "cell_type": "code",
   "execution_count": null,
   "metadata": {},
   "outputs": [],
   "source": []
  },
  {
   "cell_type": "code",
   "execution_count": null,
   "metadata": {},
   "outputs": [],
   "source": [
    "# IGNORE the following\n",
    "\n",
    "master_not_cleansed==Master_nc_duplicated"
   ]
  },
  {
   "cell_type": "code",
   "execution_count": null,
   "metadata": {},
   "outputs": [],
   "source": [
    "# The result of this may be wrong\n",
    "\n",
    "Master_duplicate = master_not_cleansed[Master_nc_duplicated]\n",
    "Master_duplicate"
   ]
  },
  {
   "cell_type": "code",
   "execution_count": null,
   "metadata": {},
   "outputs": [],
   "source": [
    "# ALT Master_duplicate = master_not_cleansed[(duplicated_rows)]"
   ]
  },
  {
   "cell_type": "code",
   "execution_count": null,
   "metadata": {},
   "outputs": [],
   "source": [
    "exclude = master_not_cleansed.isin(Master_nc_duplicated)\n",
    "exclude"
   ]
  },
  {
   "cell_type": "code",
   "execution_count": null,
   "metadata": {},
   "outputs": [],
   "source": [
    "Master_nc_duplicated"
   ]
  },
  {
   "cell_type": "code",
   "execution_count": null,
   "metadata": {},
   "outputs": [],
   "source": [
    "Master_nc_not_duplicate = master_not_cleansed[~master_not_cleansed.isin(Master_nc_duplicated)]\n",
    "Master_nc_not_duplicate"
   ]
  },
  {
   "cell_type": "code",
   "execution_count": null,
   "metadata": {},
   "outputs": [],
   "source": [
    "Master_nc_not_duplicate = master_not_cleansed[~Master_nc_duplicated]  # ORIGINALLY [~duplicated_rows]"
   ]
  },
  {
   "cell_type": "code",
   "execution_count": null,
   "metadata": {},
   "outputs": [],
   "source": []
  },
  {
   "cell_type": "code",
   "execution_count": null,
   "metadata": {},
   "outputs": [],
   "source": []
  },
  {
   "cell_type": "code",
   "execution_count": null,
   "metadata": {},
   "outputs": [],
   "source": [
    "# Continue HERE"
   ]
  },
  {
   "cell_type": "code",
   "execution_count": null,
   "metadata": {},
   "outputs": [],
   "source": [
    "# LHS is original. RHS looks nonsense, but in fact is an emergency step for 5 Oct 2021 (and possibly beyond)\n",
    "# This step may only be true provided that in an earlier step there were NO Oxford duplicates.\n",
    "\n",
    "Master_nc_not_duplicate = master_not_cleansed \n",
    "Master_nc_not_duplicate"
   ]
  },
  {
   "cell_type": "code",
   "execution_count": null,
   "metadata": {},
   "outputs": [],
   "source": [
    "Master_nc_not_duplicate['who_id_original'] = Master_nc_not_duplicate['who_id']"
   ]
  },
  {
   "cell_type": "code",
   "execution_count": null,
   "metadata": {},
   "outputs": [],
   "source": [
    "Master_nc_not_duplicate['country_orig'] = Master_nc_not_duplicate['country_territory_area']"
   ]
  },
  {
   "cell_type": "code",
   "execution_count": null,
   "metadata": {},
   "outputs": [],
   "source": [
    "Master_nc_not_duplicate['level_orig'] = Master_nc_not_duplicate['admin_level']"
   ]
  },
  {
   "cell_type": "code",
   "execution_count": null,
   "metadata": {},
   "outputs": [],
   "source": [
    "Master_nc_not_duplicate['area_orig'] = Master_nc_not_duplicate['area_covered']"
   ]
  },
  {
   "cell_type": "code",
   "execution_count": null,
   "metadata": {},
   "outputs": [],
   "source": [
    "Master_nc_not_duplicate['date_start_orig'] = Master_nc_not_duplicate['date_start']"
   ]
  },
  {
   "cell_type": "code",
   "execution_count": null,
   "metadata": {},
   "outputs": [],
   "source": [
    "Master_nc_not_duplicate['date_end'] = np.where( (Master_nc_not_duplicate['dataset'] == 'CDC_ITF') & (Master_nc_not_duplicate['date_end'] == Master_nc_not_duplicate['date_start']), \"\" , Master_nc_not_duplicate['date_end'])"
   ]
  },
  {
   "cell_type": "code",
   "execution_count": null,
   "metadata": {},
   "outputs": [],
   "source": [
    "# if Master_nc_not_duplicate['dataset'] == 'CDC_ITF':\n",
    "#     if Master_nc_not_duplicate['date_end'] == Master_nc_not_duplicate['date_start']: \n",
    "#         Master_nc_not_duplicate['date_end'] == \"\"\n",
    "#     else:\n",
    "#         pass\n",
    "# else:\n",
    "#     pass"
   ]
  },
  {
   "cell_type": "code",
   "execution_count": null,
   "metadata": {},
   "outputs": [],
   "source": [
    "cond_1 = Master_nc_not_duplicate['dataset'] == 'CDC_ITF'\n",
    "cond_2 = Master_nc_not_duplicate['date_end'] == Master_nc_not_duplicate['date_start']\n",
    "\n",
    "Master_nc_not_duplicate['date_end'] = np.where( (cond_1) & (cond_2), '', Master_nc_not_duplicate['date_end'])"
   ]
  },
  {
   "cell_type": "code",
   "execution_count": null,
   "metadata": {},
   "outputs": [],
   "source": [
    "Master_nc_not_duplicate"
   ]
  },
  {
   "cell_type": "code",
   "execution_count": null,
   "metadata": {},
   "outputs": [],
   "source": [
    "# Manually exammine the above-created columns in EXCEL for shear. \n",
    "\n",
    "Master_nc_not_duplicate.to_csv('Master_non_dup_nc.csv', index=False)"
   ]
  },
  {
   "cell_type": "code",
   "execution_count": null,
   "metadata": {},
   "outputs": [],
   "source": []
  },
  {
   "cell_type": "code",
   "execution_count": null,
   "metadata": {},
   "outputs": [],
   "source": []
  },
  {
   "cell_type": "code",
   "execution_count": null,
   "metadata": {},
   "outputs": [],
   "source": [
    "# frame = Master_nc_not_duplicate"
   ]
  },
  {
   "cell_type": "code",
   "execution_count": null,
   "metadata": {},
   "outputs": [],
   "source": [
    "Master_nc_not_duplicate['comments'] = Master_nc_not_duplicate['comments'].str.lower()"
   ]
  },
  {
   "cell_type": "code",
   "execution_count": null,
   "metadata": {},
   "outputs": [],
   "source": [
    "Master_nc_not_duplicate['comments']"
   ]
  },
  {
   "cell_type": "code",
   "execution_count": null,
   "metadata": {},
   "outputs": [],
   "source": [
    "# mylist = ['no change' , 'no policy change', 'no updates']"
   ]
  },
  {
   "cell_type": "code",
   "execution_count": null,
   "metadata": {},
   "outputs": [],
   "source": [
    "# same_orig = ['no change', 'no changes', 'no further changes', 'no policy change' , 'no policy changes', 'no major policy change' ,'no updates', 'policy unchanged', 'policy remains', 'no update', 'no updates', 'no further updates', 'no new updates', 'no detected change', 'no further updates', 'still current', 'remains current', 'remains unchanged', 'no new announcements', 'no new restrictions', 'no major changes']"
   ]
  },
  {
   "cell_type": "code",
   "execution_count": null,
   "metadata": {},
   "outputs": [],
   "source": [
    "# same_orig_df = pd.DataFrame(same_orig)"
   ]
  },
  {
   "cell_type": "code",
   "execution_count": null,
   "metadata": {},
   "outputs": [],
   "source": [
    "# same_orig_df.to_csv('updated_list.csv', index = False)"
   ]
  },
  {
   "cell_type": "code",
   "execution_count": null,
   "metadata": {},
   "outputs": [],
   "source": [
    "updated_start = pd.read_csv('updated_list.csv', keep_default_na=False)"
   ]
  },
  {
   "cell_type": "code",
   "execution_count": null,
   "metadata": {},
   "outputs": [],
   "source": [
    "initial_list = updated_start['0'].tolist()"
   ]
  },
  {
   "cell_type": "code",
   "execution_count": null,
   "metadata": {},
   "outputs": [],
   "source": [
    "initial_list"
   ]
  },
  {
   "cell_type": "code",
   "execution_count": null,
   "metadata": {},
   "outputs": [],
   "source": [
    "# Import downloaded list of 'no change' expressions\n",
    "# Additional qualifier for read_csv -  engine = 'python' \n",
    "\n",
    "downloaded = pd.read_excel('No_Change_Phrases.xlsx', keep_default_na=False)"
   ]
  },
  {
   "cell_type": "code",
   "execution_count": null,
   "metadata": {},
   "outputs": [],
   "source": [
    "downloaded.dtypes"
   ]
  },
  {
   "cell_type": "code",
   "execution_count": null,
   "metadata": {},
   "outputs": [],
   "source": [
    "downloaded = downloaded['Phrase'].str.lower()"
   ]
  },
  {
   "cell_type": "code",
   "execution_count": null,
   "metadata": {},
   "outputs": [],
   "source": [
    "downloaded.dtypes"
   ]
  },
  {
   "cell_type": "code",
   "execution_count": null,
   "metadata": {},
   "outputs": [],
   "source": [
    "downloaded"
   ]
  },
  {
   "cell_type": "code",
   "execution_count": null,
   "metadata": {},
   "outputs": [],
   "source": [
    "for r in ( ('.',''), (':','') ):\n",
    "    downloaded = downloaded.str.replace(*r)\n",
    "    \n",
    "# [x.replace(\".\", \"\") for x in downloaded_ncp]   .to_list()  .str.rstrip(\".\")"
   ]
  },
  {
   "cell_type": "code",
   "execution_count": null,
   "metadata": {},
   "outputs": [],
   "source": [
    "a = 'the policy stays unchanged\\xa0[comment from original change]'\n",
    "A = 'the policy stays unchanged'\n",
    "\n",
    "b = 'no policy updates [link]'\n",
    "B = 'no policy updates'\n",
    "\n",
    "c = 'as of [date], there has been no policy change'\n",
    "C = 'no policy change'\n",
    "\n",
    "# replacements = {a:A, b:B, c:C}\n",
    "# downloaded_2 = downloaded.apply(replacements.get)\n",
    "\n",
    "downloaded = downloaded.replace([a,b,c], [A,B,C])\n",
    "\n",
    "# downloaded.Phrase.replace(['male', 'female'], [1, 0], inplace=True)\n",
    "\n",
    "# downloaded_2 = pd.DataFrame([downloaded.get(x, x) for x in downloaded])"
   ]
  },
  {
   "cell_type": "code",
   "execution_count": null,
   "metadata": {},
   "outputs": [],
   "source": [
    "downloaded"
   ]
  },
  {
   "cell_type": "code",
   "execution_count": null,
   "metadata": {},
   "outputs": [],
   "source": [
    "downloaded_ncp = downloaded.drop_duplicates()"
   ]
  },
  {
   "cell_type": "code",
   "execution_count": null,
   "metadata": {},
   "outputs": [],
   "source": [
    "downloaded_ncp.to_list()"
   ]
  },
  {
   "cell_type": "code",
   "execution_count": null,
   "metadata": {},
   "outputs": [],
   "source": [
    "# Elements in the first list that are NOT in the second list\n",
    "\n",
    "subtr_list = list(set(downloaded_ncp)-set(initial_list))"
   ]
  },
  {
   "cell_type": "code",
   "execution_count": null,
   "metadata": {},
   "outputs": [],
   "source": [
    "subtr_list"
   ]
  },
  {
   "cell_type": "code",
   "execution_count": null,
   "metadata": {},
   "outputs": [],
   "source": [
    "expanded_list = initial_list + subtr_list"
   ]
  },
  {
   "cell_type": "code",
   "execution_count": null,
   "metadata": {},
   "outputs": [],
   "source": [
    "expanded_list"
   ]
  },
  {
   "cell_type": "code",
   "execution_count": null,
   "metadata": {},
   "outputs": [],
   "source": [
    "expanded_list_df = pd.DataFrame(expanded_list)"
   ]
  },
  {
   "cell_type": "code",
   "execution_count": null,
   "metadata": {},
   "outputs": [],
   "source": [
    "expanded_list_df.to_csv('updated_list.csv', index=False)"
   ]
  },
  {
   "cell_type": "code",
   "execution_count": null,
   "metadata": {},
   "outputs": [],
   "source": [
    "pattern = '|'.join(expanded_list)"
   ]
  },
  {
   "cell_type": "code",
   "execution_count": null,
   "metadata": {},
   "outputs": [],
   "source": [
    "def pattern_searcher(search_str:str, search_list:str):\n",
    "\n",
    "    search_obj = re.search(search_list, search_str)\n",
    "    if search_obj :\n",
    "        return_str = search_str[search_obj.start(): search_obj.end()]\n",
    "    else:\n",
    "        return_str = 'NA'\n",
    "    return return_str"
   ]
  },
  {
   "cell_type": "code",
   "execution_count": null,
   "metadata": {},
   "outputs": [],
   "source": [
    "Master_nc_not_duplicate['matched_str'] = Master_nc_not_duplicate['comments'].apply(lambda x: pattern_searcher(search_str=x, search_list=pattern))"
   ]
  },
  {
   "cell_type": "code",
   "execution_count": null,
   "metadata": {},
   "outputs": [],
   "source": [
    "Master_nc_not_duplicate"
   ]
  },
  {
   "cell_type": "code",
   "execution_count": null,
   "metadata": {},
   "outputs": [],
   "source": [
    "Master_nc_not_duplicate['keep'] = np.where( Master_nc_not_duplicate['matched_str']!='NA' , \"n\" , Master_nc_not_duplicate['keep'])"
   ]
  },
  {
   "cell_type": "code",
   "execution_count": null,
   "metadata": {},
   "outputs": [],
   "source": [
    "Master_nc_not_duplicate['who_code'] = np.where( Master_nc_not_duplicate['matched_str']!='NA' , \"13\" , Master_nc_not_duplicate['who_code'])"
   ]
  },
  {
   "cell_type": "code",
   "execution_count": null,
   "metadata": {},
   "outputs": [],
   "source": [
    "Master_nc_not_duplicate['duplicate_record_id'] = np.where(Master_nc_not_duplicate['matched_str']!='NA' , \"auto13\" , Master_nc_not_duplicate['duplicate_record_id'])"
   ]
  },
  {
   "cell_type": "code",
   "execution_count": null,
   "metadata": {},
   "outputs": [],
   "source": [
    "Master_nc_not_duplicate[ ['matched_str', 'keep', 'who_code', 'duplicate_record_id', 'comments'] ]"
   ]
  },
  {
   "cell_type": "code",
   "execution_count": null,
   "metadata": {},
   "outputs": [],
   "source": [
    "# Count the number of code 13 keep = n\n",
    "\n",
    "(Master_nc_not_duplicate['keep']=='n').sum()"
   ]
  },
  {
   "cell_type": "code",
   "execution_count": null,
   "metadata": {},
   "outputs": [],
   "source": [
    "# Drop the extra helper column\n",
    "\n",
    "Master_nc_not_duplicate.drop('matched_str' , inplace=True, axis=1)"
   ]
  },
  {
   "cell_type": "code",
   "execution_count": null,
   "metadata": {},
   "outputs": [],
   "source": [
    "Master_nc_not_duplicate"
   ]
  },
  {
   "cell_type": "code",
   "execution_count": null,
   "metadata": {},
   "outputs": [],
   "source": [
    "# Deal with the record EURO_3855803 which has a couple of columns being 'unknown', before creating the intermediate output file.\n",
    "# Possibly DROP it completely?"
   ]
  },
  {
   "cell_type": "code",
   "execution_count": null,
   "metadata": {},
   "outputs": [],
   "source": [
    "Master_nc_not_duplicate.to_csv('Master_nc_not_duplicate.csv', index=False)"
   ]
  },
  {
   "cell_type": "code",
   "execution_count": null,
   "metadata": {},
   "outputs": [],
   "source": []
  },
  {
   "cell_type": "code",
   "execution_count": null,
   "metadata": {},
   "outputs": [],
   "source": [
    "# Now bring back the 'sequenced' records "
   ]
  },
  {
   "cell_type": "code",
   "execution_count": null,
   "metadata": {},
   "outputs": [],
   "source": [
    "code_8_list = ['8.2', '8.3', '8.4', '8.5', '8.4.1', '8.4.2']"
   ]
  },
  {
   "cell_type": "code",
   "execution_count": null,
   "metadata": {},
   "outputs": [],
   "source": [
    "Sequenced_8 = master_sequenced[master_sequenced['who_code'].isin(code_8_list)]"
   ]
  },
  {
   "cell_type": "code",
   "execution_count": null,
   "metadata": {},
   "outputs": [],
   "source": [
    "Sequenced_8"
   ]
  },
  {
   "cell_type": "code",
   "execution_count": null,
   "metadata": {},
   "outputs": [],
   "source": [
    "Sequenced_other = master_sequenced[~master_sequenced['who_code'].isin(code_8_list)]"
   ]
  },
  {
   "cell_type": "code",
   "execution_count": null,
   "metadata": {},
   "outputs": [],
   "source": [
    "Sequenced_other"
   ]
  },
  {
   "cell_type": "code",
   "execution_count": null,
   "metadata": {},
   "outputs": [],
   "source": [
    "Sequenced_8_duplicated = Sequenced_8.duplicated([\"country_territory_area\", \"area_covered\", \"who_code\", \"date_start\", \"comments\"],keep='first')"
   ]
  },
  {
   "cell_type": "code",
   "execution_count": null,
   "metadata": {},
   "outputs": [],
   "source": [
    "# This number must be noted and logged into Google Sheets\n",
    "\n",
    "seq8_dup_count = Sequenced_8_duplicated.sum() \n",
    "seq8_dup_count"
   ]
  },
  {
   "cell_type": "code",
   "execution_count": null,
   "metadata": {},
   "outputs": [],
   "source": [
    "# [~Sequenced_8_duplicated]"
   ]
  },
  {
   "cell_type": "code",
   "execution_count": null,
   "metadata": {},
   "outputs": [],
   "source": []
  },
  {
   "cell_type": "code",
   "execution_count": null,
   "metadata": {},
   "outputs": [],
   "source": [
    "# This is the number of sequenced code 8 records, after dropping the above duplicates\n",
    "\n",
    "Sequenced_8_drop = Sequenced_8[~Sequenced_8_duplicated]"
   ]
  },
  {
   "cell_type": "code",
   "execution_count": null,
   "metadata": {},
   "outputs": [],
   "source": [
    "Sequenced_8_drop"
   ]
  },
  {
   "cell_type": "code",
   "execution_count": null,
   "metadata": {},
   "outputs": [],
   "source": [
    "# master_sequenced  Sequenced_8_drop, Sequenced_other"
   ]
  },
  {
   "cell_type": "code",
   "execution_count": null,
   "metadata": {},
   "outputs": [],
   "source": [
    "Master_no_duplicates = pd.concat([Master_nc_not_duplicate, master_nc_duplicated_conv, Sequenced_8_drop, Sequenced_other])"
   ]
  },
  {
   "cell_type": "code",
   "execution_count": null,
   "metadata": {},
   "outputs": [],
   "source": [
    "Master_no_duplicates.sort_values([\"country_territory_area\", \"date_start\"], ascending=[True, True], inplace = True)"
   ]
  },
  {
   "cell_type": "code",
   "execution_count": null,
   "metadata": {},
   "outputs": [],
   "source": [
    "Master = Master_no_duplicates"
   ]
  },
  {
   "cell_type": "code",
   "execution_count": null,
   "metadata": {},
   "outputs": [],
   "source": [
    "Master"
   ]
  },
  {
   "cell_type": "code",
   "execution_count": null,
   "metadata": {},
   "outputs": [],
   "source": [
    "# Open this file in Excel, and manually remove any Oxford duplicates. \n",
    "# The counterpart with who_code 12 should be deleted.\n",
    "\n",
    "Master.to_csv('Master_Intermediate.csv', index=False)"
   ]
  },
  {
   "cell_type": "code",
   "execution_count": null,
   "metadata": {},
   "outputs": [],
   "source": []
  },
  {
   "cell_type": "code",
   "execution_count": null,
   "metadata": {},
   "outputs": [],
   "source": [
    "# In this file, the Oxford duplicates were manually removed.\n",
    "\n",
    "# Master = pd.read_csv('Master_Intermediate.csv', keep_default_na=False)"
   ]
  },
  {
   "cell_type": "code",
   "execution_count": null,
   "metadata": {},
   "outputs": [],
   "source": []
  },
  {
   "cell_type": "code",
   "execution_count": null,
   "metadata": {},
   "outputs": [],
   "source": [
    "# Insert the repeated column 'who_id' (previously, target column was 22)\n",
    "\n",
    "Master.insert(23, 'who_id (repeated from column B)', Master['who_id']) "
   ]
  },
  {
   "cell_type": "code",
   "execution_count": null,
   "metadata": {},
   "outputs": [],
   "source": [
    "# Check for fully blank rows\n",
    "\n",
    "np.where(pd.isnull(Master))"
   ]
  },
  {
   "cell_type": "code",
   "execution_count": null,
   "metadata": {},
   "outputs": [],
   "source": [
    "total_num = Master.shape[0]"
   ]
  },
  {
   "cell_type": "code",
   "execution_count": null,
   "metadata": {},
   "outputs": [],
   "source": [
    "# This number plus the number of code8 duplicates dropped, plus the deferred records should equal.....\n",
    "# .....the number from the ORIGINAL Master.\n",
    "\n",
    "total_num"
   ]
  },
  {
   "cell_type": "code",
   "execution_count": null,
   "metadata": {},
   "outputs": [],
   "source": []
  },
  {
   "cell_type": "code",
   "execution_count": null,
   "metadata": {},
   "outputs": [],
   "source": []
  },
  {
   "cell_type": "code",
   "execution_count": null,
   "metadata": {},
   "outputs": [],
   "source": [
    "extracted_codes_8 = ['8.2', '8.3', '8.4', '8.5', '8.4.1', '8.4.2', '8.5']"
   ]
  },
  {
   "cell_type": "code",
   "execution_count": null,
   "metadata": {},
   "outputs": [],
   "source": [
    "Extracted_8 = Master[Master.who_code.isin(extracted_codes_8)]"
   ]
  },
  {
   "cell_type": "code",
   "execution_count": null,
   "metadata": {},
   "outputs": [],
   "source": [
    "Extracted_8"
   ]
  },
  {
   "cell_type": "code",
   "execution_count": null,
   "metadata": {},
   "outputs": [],
   "source": [
    "Extracted_8_not_cleansed = Extracted_8[Extracted_8['processed']=='not_cleansed']"
   ]
  },
  {
   "cell_type": "code",
   "execution_count": null,
   "metadata": {},
   "outputs": [],
   "source": [
    "Extracted_8_sequenced = Extracted_8[Extracted_8['processed']=='sequenced']"
   ]
  },
  {
   "cell_type": "code",
   "execution_count": null,
   "metadata": {},
   "outputs": [],
   "source": [
    "Ex8_seq_count = Extracted_8_sequenced.shape\n",
    "Ex8_seq_count"
   ]
  },
  {
   "cell_type": "code",
   "execution_count": null,
   "metadata": {},
   "outputs": [],
   "source": [
    "Ex8_nc_count = Extracted_8_not_cleansed.shape\n",
    "Ex8_nc_count"
   ]
  },
  {
   "cell_type": "code",
   "execution_count": null,
   "metadata": {},
   "outputs": [],
   "source": [
    "# Change the date\n",
    "\n",
    "Extracted_8_not_cleansed.to_csv('Extracted_code8_not_cleansed_2022_08_17.csv', index=False) "
   ]
  },
  {
   "cell_type": "code",
   "execution_count": null,
   "metadata": {},
   "outputs": [],
   "source": []
  },
  {
   "cell_type": "code",
   "execution_count": null,
   "metadata": {},
   "outputs": [],
   "source": []
  },
  {
   "cell_type": "code",
   "execution_count": null,
   "metadata": {},
   "outputs": [],
   "source": []
  },
  {
   "cell_type": "code",
   "execution_count": null,
   "metadata": {},
   "outputs": [],
   "source": [
    "# IGNORE the next 3 (6?) cells and go further down\n",
    "\n",
    "# extracted_codes_other = ['10', '11', '12', '13', '14']"
   ]
  },
  {
   "cell_type": "code",
   "execution_count": null,
   "metadata": {},
   "outputs": [],
   "source": [
    "# Extracted_other = Master[Master.who_code.isin(extracted_codes_other)]"
   ]
  },
  {
   "cell_type": "code",
   "execution_count": null,
   "metadata": {},
   "outputs": [],
   "source": [
    "# Extracted_other"
   ]
  },
  {
   "cell_type": "code",
   "execution_count": null,
   "metadata": {},
   "outputs": [],
   "source": [
    "# Extracted_other = \"\""
   ]
  },
  {
   "cell_type": "code",
   "execution_count": null,
   "metadata": {},
   "outputs": [],
   "source": [
    "# Extracted_other"
   ]
  },
  {
   "cell_type": "code",
   "execution_count": null,
   "metadata": {},
   "outputs": [],
   "source": []
  },
  {
   "cell_type": "code",
   "execution_count": null,
   "metadata": {},
   "outputs": [],
   "source": []
  },
  {
   "cell_type": "code",
   "execution_count": null,
   "metadata": {},
   "outputs": [],
   "source": [
    "# # Find the row indexes corresponding to blank who_ids\n",
    "who_blank = Master[Master['who_id'] == ''].index\n",
    "\n",
    "# Find the corresponding countries that correspond to these blank ids\n",
    "Master['country_territory_area'].loc[who_blank]"
   ]
  },
  {
   "cell_type": "code",
   "execution_count": null,
   "metadata": {},
   "outputs": [],
   "source": [
    "# Check for unwanted values in the 'keep' column\n",
    "\n",
    "Master.keep.unique()"
   ]
  },
  {
   "cell_type": "code",
   "execution_count": null,
   "metadata": {},
   "outputs": [],
   "source": [
    "Master_n = Master[Master['keep']=='n']"
   ]
  },
  {
   "cell_type": "code",
   "execution_count": null,
   "metadata": {},
   "outputs": [],
   "source": [
    "# Note that this will be higher than its counterpart from the Original Master,\n",
    "# ...because of the above conversion of additional records.\n",
    "\n",
    "Master_n.shape[0]"
   ]
  },
  {
   "cell_type": "code",
   "execution_count": null,
   "metadata": {},
   "outputs": [],
   "source": []
  },
  {
   "cell_type": "code",
   "execution_count": null,
   "metadata": {},
   "outputs": [],
   "source": []
  },
  {
   "cell_type": "code",
   "execution_count": null,
   "metadata": {},
   "outputs": [],
   "source": [
    "# Do NOT run this cell if the above cell on extracted_code_other failed.\n",
    "\n",
    "# Check that the keep=n records do not have any unwanted codes. \n",
    "# This should agree with the above number.\n",
    "\n",
    "# extracted_codes_2 =['10', '11', '12', '13', '14']\n",
    "# Master_n['who_code'].isin(extracted_codes_2).value_counts()"
   ]
  },
  {
   "cell_type": "code",
   "execution_count": null,
   "metadata": {},
   "outputs": [],
   "source": []
  },
  {
   "cell_type": "code",
   "execution_count": null,
   "metadata": {},
   "outputs": [],
   "source": []
  },
  {
   "cell_type": "code",
   "execution_count": null,
   "metadata": {},
   "outputs": [],
   "source": [
    "# Check that the who_region column only contains allowed values\n",
    "\n",
    "Master.who_region.unique()"
   ]
  },
  {
   "cell_type": "code",
   "execution_count": null,
   "metadata": {},
   "outputs": [],
   "source": [
    "# Check that the who_region column contains no blank cells\n",
    "\n",
    "Master['who_region'].isnull().sum()"
   ]
  },
  {
   "cell_type": "code",
   "execution_count": null,
   "metadata": {},
   "outputs": [],
   "source": [
    "# Check that the admin_level column only contains allowed values\n",
    "\n",
    "Master.admin_level.unique()"
   ]
  },
  {
   "cell_type": "code",
   "execution_count": null,
   "metadata": {},
   "outputs": [],
   "source": [
    "# Check that the admin_level column contains no blank cells\n",
    "\n",
    "Master['admin_level'].isnull().sum()"
   ]
  },
  {
   "cell_type": "code",
   "execution_count": null,
   "metadata": {},
   "outputs": [],
   "source": [
    "date_start = Master['date_start'].astype('datetime64[ns]')"
   ]
  },
  {
   "cell_type": "code",
   "execution_count": null,
   "metadata": {},
   "outputs": [],
   "source": [
    "date_start.min()"
   ]
  },
  {
   "cell_type": "code",
   "execution_count": null,
   "metadata": {},
   "outputs": [],
   "source": [
    "date_start.max()"
   ]
  },
  {
   "cell_type": "code",
   "execution_count": null,
   "metadata": {},
   "outputs": [],
   "source": [
    "date_end = Master['date_end'].astype('datetime64[ns]')"
   ]
  },
  {
   "cell_type": "code",
   "execution_count": null,
   "metadata": {},
   "outputs": [],
   "source": [
    "date_end.max()"
   ]
  },
  {
   "cell_type": "code",
   "execution_count": null,
   "metadata": {},
   "outputs": [],
   "source": []
  },
  {
   "cell_type": "code",
   "execution_count": null,
   "metadata": {},
   "outputs": [],
   "source": [
    "# Check that the following columns only contains allowed values (blanks are ok at this stage)."
   ]
  },
  {
   "cell_type": "code",
   "execution_count": null,
   "metadata": {},
   "outputs": [],
   "source": [
    "Master.measure_stage.unique()"
   ]
  },
  {
   "cell_type": "code",
   "execution_count": null,
   "metadata": {},
   "outputs": [],
   "source": [
    "Master.reason_ended.unique()"
   ]
  },
  {
   "cell_type": "code",
   "execution_count": null,
   "metadata": {},
   "outputs": [],
   "source": [
    "Master.enforcement.unique()"
   ]
  },
  {
   "cell_type": "code",
   "execution_count": null,
   "metadata": {},
   "outputs": [],
   "source": [
    "Master.non_compliance_penalty.unique()"
   ]
  },
  {
   "cell_type": "code",
   "execution_count": null,
   "metadata": {},
   "outputs": [],
   "source": [
    "Master.link_live.unique()"
   ]
  },
  {
   "cell_type": "code",
   "execution_count": null,
   "metadata": {},
   "outputs": [],
   "source": [
    "Master.link_eng.unique()"
   ]
  },
  {
   "cell_type": "code",
   "execution_count": null,
   "metadata": {},
   "outputs": [],
   "source": [
    "Master.trigger.unique()"
   ]
  },
  {
   "cell_type": "code",
   "execution_count": null,
   "metadata": {},
   "outputs": [],
   "source": []
  },
  {
   "cell_type": "code",
   "execution_count": null,
   "metadata": {},
   "outputs": [],
   "source": []
  },
  {
   "cell_type": "code",
   "execution_count": null,
   "metadata": {},
   "outputs": [],
   "source": [
    "# If the above original attempt at Extracted_other did NOT work, then IGNORE this cell.\n",
    "\n",
    "# This is the Master without the 'Extracted' codes.\n",
    "# It is required throughout for the 'Country List and Stats'spreadsheet \n",
    "\n",
    "# extracted_codes = ['8.2', '8.3', '8.4', '8.5', '8.4.1', '8.4.2', '10', '11', '12', '13', '14']\n",
    "# Not_Extracted = Master[~Master.who_code.isin(extracted_codes)]\n",
    "# Not_Extracted"
   ]
  },
  {
   "cell_type": "code",
   "execution_count": null,
   "metadata": {},
   "outputs": [],
   "source": []
  },
  {
   "cell_type": "code",
   "execution_count": null,
   "metadata": {},
   "outputs": [],
   "source": []
  },
  {
   "cell_type": "code",
   "execution_count": null,
   "metadata": {},
   "outputs": [],
   "source": [
    "wanted_codes = ['1.1', '1.2', '1.3', '1.4', '1.5', '1.6', '2.1', '2.2', '2.3', \n",
    "               '3.1', '3.1.1', '3.1.2', '3.1.3', '3.2.1', '3.2.2', \n",
    "               '4.1', '4.1.1', '4.1.2', '4.2.1', '4.2.2', '4.3.1', '4.3.2', '4.3.3', '4.3.4',\n",
    "               '4.4.1', '4.4.2', '4.4.3', '4.5.1', '4.5.2', '4.5.3', '4.5.4', \n",
    "               '5.1', '5.2', '5.3', '5.4', '5.5', '5.6', '5.7', '5.8', '5.9',\n",
    "               '6.1', '6.2', '7.1', '7.2', '8', '8.1', '9']\n",
    "\n",
    "Not_Extracted = Master[Master.who_code.isin(wanted_codes)]\n",
    "Not_Extracted"
   ]
  },
  {
   "cell_type": "code",
   "execution_count": null,
   "metadata": {},
   "outputs": [],
   "source": [
    "list(Not_Extracted.columns)"
   ]
  },
  {
   "cell_type": "code",
   "execution_count": null,
   "metadata": {},
   "outputs": [],
   "source": [
    "# This should be consistent with volunteer_num below\n",
    "\n",
    "Not_Extracted.shape[0]"
   ]
  },
  {
   "cell_type": "code",
   "execution_count": null,
   "metadata": {},
   "outputs": [],
   "source": [
    "# All entries in the 'keep' column should be 'y' (no blanks).\n",
    "# Should agree with Not_Extracted shape[0] above.\n",
    "\n",
    "(Not_Extracted['keep']=='y').value_counts()"
   ]
  },
  {
   "cell_type": "code",
   "execution_count": null,
   "metadata": {},
   "outputs": [],
   "source": [
    "# All the entries in 'duplicate_record_id' should be blank\n",
    "\n",
    "(Not_Extracted['duplicate_record_id']=='').value_counts()"
   ]
  },
  {
   "cell_type": "code",
   "execution_count": null,
   "metadata": {},
   "outputs": [],
   "source": [
    "# This step is now OBSOLETE.\n",
    "\n",
    "# Change the date, rename the tab as 'data'.......\n",
    "# ......and subsequently save as a MACRO-ENABLED Excel file.\n",
    "\n",
    "# Not_Extracted.to_csv('master_reduced_2022_05_24.csv', index=False)"
   ]
  },
  {
   "cell_type": "code",
   "execution_count": null,
   "metadata": {},
   "outputs": [],
   "source": [
    "# Also add in code 8 to Not_Extracted, and send to ORLAGH.\n",
    "\n",
    "# EURO_4552187 (line 44500), OXCGRT_2990603 (line 44686)"
   ]
  },
  {
   "cell_type": "code",
   "execution_count": null,
   "metadata": {},
   "outputs": [],
   "source": []
  },
  {
   "cell_type": "code",
   "execution_count": null,
   "metadata": {},
   "outputs": [],
   "source": [
    "# Check that the keep=n records do not have any unwanted codes. \n",
    "# This should agree with the below number for Master_n.\n",
    "\n",
    "wanted_codes_8 = extracted_codes_8 + wanted_codes\n",
    "\n",
    "Int = Master_n['who_code'].isin(wanted_codes_8)\n",
    "Master_n[~Int].shape[0]"
   ]
  },
  {
   "cell_type": "code",
   "execution_count": null,
   "metadata": {},
   "outputs": [],
   "source": [
    "# This should agree with the number above. In other words, ......\n",
    "# ......this file ONLY contains keep=n records.\n",
    "\n",
    "Master_n.shape[0]"
   ]
  },
  {
   "cell_type": "code",
   "execution_count": null,
   "metadata": {},
   "outputs": [],
   "source": [
    "Extracted_all = Master[~Master.who_code.isin(wanted_codes)]\n",
    "Extracted_other = Extracted_all[~Extracted_all.who_code.isin(extracted_codes_8)]"
   ]
  },
  {
   "cell_type": "code",
   "execution_count": null,
   "metadata": {},
   "outputs": [],
   "source": [
    "Extracted_all"
   ]
  },
  {
   "cell_type": "code",
   "execution_count": null,
   "metadata": {},
   "outputs": [],
   "source": [
    "# Change the date\n",
    "\n",
    "Extracted_all.to_csv('Extracted_all_2022_08_17.csv', index=False)"
   ]
  },
  {
   "cell_type": "code",
   "execution_count": null,
   "metadata": {},
   "outputs": [],
   "source": [
    "Extracted_other.head(5)"
   ]
  },
  {
   "cell_type": "code",
   "execution_count": null,
   "metadata": {},
   "outputs": [],
   "source": [
    "# Very Important!\n",
    "\n",
    "Extracted_other.drop('who_id (repeated from column B)', inplace=True, axis=1)"
   ]
  },
  {
   "cell_type": "code",
   "execution_count": null,
   "metadata": {},
   "outputs": [],
   "source": [
    "Ex_other_count = Extracted_other.shape\n",
    "Ex_other_count"
   ]
  },
  {
   "cell_type": "code",
   "execution_count": null,
   "metadata": {},
   "outputs": [],
   "source": [
    "# OLD SYSTEM Change the date\n",
    "\n",
    "# Extracted_other.to_csv('Extracted_other_2022_05_24.csv', index=False) "
   ]
  },
  {
   "cell_type": "code",
   "execution_count": null,
   "metadata": {},
   "outputs": [],
   "source": []
  },
  {
   "cell_type": "code",
   "execution_count": null,
   "metadata": {},
   "outputs": [],
   "source": []
  },
  {
   "cell_type": "code",
   "execution_count": null,
   "metadata": {},
   "outputs": [],
   "source": [
    "extracted_num = Extracted_other.shape[0] + Extracted_8.shape[0]"
   ]
  },
  {
   "cell_type": "code",
   "execution_count": null,
   "metadata": {},
   "outputs": [],
   "source": [
    "volunteer_num = total_num - extracted_num\n",
    "volunteer_num"
   ]
  },
  {
   "cell_type": "code",
   "execution_count": null,
   "metadata": {},
   "outputs": [],
   "source": [
    "vol_not_cleansed = Not_Extracted[Not_Extracted['processed']=='not_cleansed']"
   ]
  },
  {
   "cell_type": "code",
   "execution_count": null,
   "metadata": {},
   "outputs": [],
   "source": [
    "# List the number of new records per country.\n",
    "\n",
    "vol_countries = vol_not_cleansed.groupby(['country_territory_area'])[['processed']].count()\n",
    "vol_df = pd.DataFrame(vol_countries).reset_index()"
   ]
  },
  {
   "cell_type": "code",
   "execution_count": null,
   "metadata": {},
   "outputs": [],
   "source": [
    "# Convert the 'GroupBy' dataframe to a list\n",
    "\n",
    "vol_list = vol_df['country_territory_area'].tolist()"
   ]
  },
  {
   "cell_type": "code",
   "execution_count": null,
   "metadata": {},
   "outputs": [],
   "source": [
    "# Construct the Volunteer Master\n",
    "\n",
    "Vol_File = Not_Extracted[Not_Extracted['country_territory_area'].isin(vol_list)]\n",
    "Vol_File = Vol_File.sort_values('country_territory_area', ascending=True)\n",
    "Vol_File"
   ]
  },
  {
   "cell_type": "code",
   "execution_count": null,
   "metadata": {},
   "outputs": [],
   "source": [
    "# This is the number of rows to be cleaned by the volunteers\n",
    "\n",
    "(Vol_File['processed'] == 'not_cleansed').sum()"
   ]
  },
  {
   "cell_type": "code",
   "execution_count": null,
   "metadata": {},
   "outputs": [],
   "source": [
    "# Also need to find the number of volunteer rows in codes 1 to 7. \n",
    "\n",
    "codes_1to7 = ['1.1', '1.2', '1.3', '1.4', '1.5', '1.6', '2.1', '2.2', '2.3', \n",
    "               '3.1', '3.1.1', '3.1.2', '3.1.3', '3.2.1', '3.2.2', \n",
    "               '4.1', '4.1.1', '4.1.2', '4.2.1', '4.2.2', '4.3.1', '4.3.2', '4.3.3', '4.3.4',\n",
    "               '4.4.1', '4.4.2', '4.4.3', '4.5.1', '4.5.2', '4.5.3', '4.5.4', \n",
    "               '5.1', '5.2', '5.3', '5.4', '5.5', '5.6', '5.7', '5.8', '5.9',\n",
    "               '6.1', '6.2', '7.1', '7.2']"
   ]
  },
  {
   "cell_type": "code",
   "execution_count": null,
   "metadata": {},
   "outputs": [],
   "source": [
    "Vol_1to7 = Vol_File[Vol_File.who_code.isin(codes_1to7)]  \n",
    "(Vol_1to7['processed'] == 'not_cleansed').sum()"
   ]
  },
  {
   "cell_type": "code",
   "execution_count": null,
   "metadata": {},
   "outputs": [],
   "source": [
    "# For the Volunteer file, find out how many records there are by each who_code\n",
    "\n",
    "Vol_not_cleansed = Vol_File[Vol_File['processed'] == 'not_cleansed']\n",
    "Vol_not_cleansed.groupby(['who_code'])[['processed']].count()"
   ]
  },
  {
   "cell_type": "code",
   "execution_count": null,
   "metadata": {},
   "outputs": [],
   "source": [
    "# Ensure that the 'queries_comments' column is blank.\n",
    "\n",
    "Vol_File['queries_comments'] = ''"
   ]
  },
  {
   "cell_type": "code",
   "execution_count": null,
   "metadata": {},
   "outputs": [],
   "source": [
    "vol_count = Vol_File.shape\n",
    "vol_count"
   ]
  },
  {
   "cell_type": "code",
   "execution_count": null,
   "metadata": {},
   "outputs": [],
   "source": [
    "# This step is currently SUSPENDED while the cleaning of sequenced EURO records is taking place.\n",
    "\n",
    "# Change the date, rename the tab as 'data'.......\n",
    "# ......and subsequently save as a MACRO-ENABLED Excel file.\n",
    "\n",
    "# Vol_File.to_csv('Volunteer_Rows_2022_05_24.csv', index=False)"
   ]
  },
  {
   "cell_type": "code",
   "execution_count": null,
   "metadata": {},
   "outputs": [],
   "source": []
  },
  {
   "cell_type": "code",
   "execution_count": null,
   "metadata": {},
   "outputs": [],
   "source": [
    "# Construct the Residual Master containing NO new records\n",
    "# This will be combined with the 'Extracted_other' file. \n",
    "\n",
    "No_New_Countries = Not_Extracted[~Not_Extracted['country_territory_area'].isin(vol_list)]\n",
    "No_New_Countries = No_New_Countries.sort_values('country_territory_area', ascending=True)\n",
    "No_New_Countries"
   ]
  },
  {
   "cell_type": "code",
   "execution_count": null,
   "metadata": {},
   "outputs": [],
   "source": [
    "# Count the number of countries with NO new records\n",
    "\n",
    "len(No_New_Countries.groupby(['country_territory_area']))"
   ]
  },
  {
   "cell_type": "code",
   "execution_count": null,
   "metadata": {},
   "outputs": [],
   "source": [
    "no_new_count = No_New_Countries.shape\n",
    "no_new_count"
   ]
  },
  {
   "cell_type": "code",
   "execution_count": null,
   "metadata": {},
   "outputs": [],
   "source": [
    "# OLD SYSTEM Change the date\n",
    "\n",
    "# No_New_Countries.to_csv('No_New_Records_2022_05_24.csv', index=False)"
   ]
  },
  {
   "cell_type": "code",
   "execution_count": null,
   "metadata": {},
   "outputs": [],
   "source": [
    "# Recap of the number of rows in the ORIGINAL master\n",
    "\n",
    "post_master_count = post_master.shape\n",
    "post_master_count"
   ]
  },
  {
   "cell_type": "code",
   "execution_count": null,
   "metadata": {},
   "outputs": [],
   "source": [
    "seq8_dup_count"
   ]
  },
  {
   "cell_type": "code",
   "execution_count": null,
   "metadata": {},
   "outputs": [],
   "source": []
  },
  {
   "cell_type": "code",
   "execution_count": null,
   "metadata": {},
   "outputs": [],
   "source": [
    "# Numbers check (OLD SYSTEM) - if there is disagreement, then it will say (False, False) or only (False).\n",
    "\n",
    "seq8_dup_count + Ex8_nc_count + Ex8_seq_count + Ex_other_count + vol_count + no_new_count == post_master_count"
   ]
  },
  {
   "cell_type": "code",
   "execution_count": null,
   "metadata": {},
   "outputs": [],
   "source": []
  },
  {
   "cell_type": "code",
   "execution_count": null,
   "metadata": {},
   "outputs": [],
   "source": [
    "# IGNORE this cell\n",
    "\n",
    "# cond_deu = No_New_Countries['country_territory_area']=='Germany'                                       \n",
    "# No_New_Countries_deu = No_New_Countries[(cond_deu)]\n",
    "# No_New_Countries_deu"
   ]
  },
  {
   "cell_type": "code",
   "execution_count": null,
   "metadata": {},
   "outputs": [],
   "source": [
    "# IGNORE this cell\n",
    "\n",
    "# cond_uk = No_New_Countries['country_territory_area']=='United Kingdom Of Great Britain And Northern Ireland'\n",
    "# No_New_Countries_uk = No_New_Countries[(cond_uk)]\n",
    "                                       \n",
    "# No_New_Countries_EURO = pd.concat([No_New_Countries_deu, No_New_Countries_uk], axis=0)  \n",
    "# No_New_Countries_EURO = No_New_Countries_uk.append(No_New_Countries_deu, ignore_index=True)\n",
    "    \n",
    "# No_New_Countries_EURO = No_New_Countries[No_New_Countries['who_region']=='EURO']\n",
    "# No_New_Countries_EURO"
   ]
  },
  {
   "cell_type": "code",
   "execution_count": null,
   "metadata": {},
   "outputs": [],
   "source": [
    "# This is an extra procedure introduced to help with preparing next weeks mistress.\n",
    "\n",
    "No_New_Countries_EURO = No_New_Countries[No_New_Countries['who_region']=='EURO']\n",
    "No_New_Countries_EURO"
   ]
  },
  {
   "cell_type": "code",
   "execution_count": null,
   "metadata": {},
   "outputs": [],
   "source": [
    "# REACTIVATED on 12 July 2022 ( Originally de-activated on 28 June 2022) \n",
    "\n",
    "# This is PURELY for Macro Splitting. Do NOT upload to the Task folder on MS Teams.\n",
    "# CHANGE date. \n",
    "\n",
    "No_New_Countries_EURO.to_csv('No_New_Countries_EURO_Not_for_MS_Teams_2022_08_17.csv', index=False) "
   ]
  },
  {
   "cell_type": "code",
   "execution_count": null,
   "metadata": {},
   "outputs": [],
   "source": []
  },
  {
   "cell_type": "code",
   "execution_count": null,
   "metadata": {},
   "outputs": [],
   "source": []
  },
  {
   "cell_type": "code",
   "execution_count": null,
   "metadata": {},
   "outputs": [],
   "source": [
    "# This is PURELY for Macro Splitting. Do NOT upload to the Task folder on MS Teams.\n",
    "# CHANGE date. \n",
    "\n",
    "Vol_File.to_csv('Vol_rows_Not_for_MS_Teams_2022_08_17.csv', index=False)"
   ]
  },
  {
   "cell_type": "code",
   "execution_count": null,
   "metadata": {},
   "outputs": [],
   "source": []
  },
  {
   "cell_type": "code",
   "execution_count": null,
   "metadata": {},
   "outputs": [],
   "source": [
    "# This is an extra procedure introduced to help with preparing next weeks mistress.\n",
    "\n",
    "# No_New_Countries_EURO = No_New_Countries[No_New_Countries['who_region']=='EURO']\n",
    "# No_New_Countries_EURO"
   ]
  },
  {
   "cell_type": "code",
   "execution_count": null,
   "metadata": {},
   "outputs": [],
   "source": [
    "# Vol_File_with_EURO = Vol_File\n",
    "\n",
    "Vol_File_with_EURO = Vol_File.append(No_New_Countries_EURO, ignore_index=True)"
   ]
  },
  {
   "cell_type": "code",
   "execution_count": null,
   "metadata": {},
   "outputs": [],
   "source": [
    "vol_euro_count = Vol_File_with_EURO.shape\n",
    "vol_euro_count"
   ]
  },
  {
   "cell_type": "code",
   "execution_count": null,
   "metadata": {},
   "outputs": [],
   "source": [
    "# This file operates the 'Country List and Stats' spreadsheet\n",
    "\n",
    "# Change the date, rename the tab as 'data'.......\n",
    "# ......and subsequently save as a MACRO-ENABLED Excel file.\n",
    "\n",
    "Vol_File_with_EURO.to_csv('Master_VolunteerEURO_2022_08_17.csv', index=False)"
   ]
  },
  {
   "cell_type": "code",
   "execution_count": null,
   "metadata": {},
   "outputs": [],
   "source": [
    "# The only EURO countries from no_new_records that are being cast aside are UK and Germany.\n",
    "\n",
    "# cond_not_uk = No_New_Countries['country_territory_area']!='United Kingdom Of Great Britain And Northern Ireland'\n",
    "\n",
    "# No_New_Countries_not_euro = No_New_Countries[(cond_not_uk)]  # Check this."
   ]
  },
  {
   "cell_type": "code",
   "execution_count": null,
   "metadata": {},
   "outputs": [],
   "source": [
    "No_New_Countries_not_euro = No_New_Countries[No_New_Countries['who_region']!='EURO']\n",
    "No_New_Countries_not_euro"
   ]
  },
  {
   "cell_type": "code",
   "execution_count": null,
   "metadata": {},
   "outputs": [],
   "source": [
    "No_New_Countries_not_euro.drop('who_id (repeated from column B)', inplace=True, axis=1)"
   ]
  },
  {
   "cell_type": "code",
   "execution_count": null,
   "metadata": {},
   "outputs": [],
   "source": [
    "# This is NOT to be added to the 'Task' folder, as it will later be concatenated.\n",
    "\n",
    "# No_New_Countries_not_euro.to_csv('No_New_Not_Euro_2022_06_07.csv', index=False)"
   ]
  },
  {
   "cell_type": "code",
   "execution_count": null,
   "metadata": {},
   "outputs": [],
   "source": [
    "Non_Vol = Extracted_other.append(No_New_Countries_not_euro, ignore_index=True)"
   ]
  },
  {
   "cell_type": "code",
   "execution_count": null,
   "metadata": {},
   "outputs": [],
   "source": [
    "Extracted_8_sequenced.drop('who_id (repeated from column B)', inplace=True, axis=1)"
   ]
  },
  {
   "cell_type": "code",
   "execution_count": null,
   "metadata": {},
   "outputs": [],
   "source": [
    "# This dataset is to be concatenated with the incomplete mistress prepared the following week\n",
    "# Manaully concatenate it in EXCEL, perform a Sort Order, and then a final test on mistress.\n",
    "# Re-upload the full mistress to Slack for Lukas.\n",
    "\n",
    "Non_Vol_with_8_seq = Non_Vol.append(Extracted_8_sequenced, ignore_index=True)"
   ]
  },
  {
   "cell_type": "code",
   "execution_count": null,
   "metadata": {},
   "outputs": [],
   "source": [
    "Non_Vol_count = Non_Vol_with_8_seq.shape\n",
    "Non_Vol_count"
   ]
  },
  {
   "cell_type": "code",
   "execution_count": null,
   "metadata": {},
   "outputs": [],
   "source": [
    "# Change the date\n",
    "\n",
    "Non_Vol_with_8_seq.to_csv('Non_Volunteer_2022_08_17.csv', index=False)"
   ]
  },
  {
   "cell_type": "code",
   "execution_count": null,
   "metadata": {},
   "outputs": [],
   "source": []
  },
  {
   "cell_type": "code",
   "execution_count": null,
   "metadata": {},
   "outputs": [],
   "source": [
    "seq8_dup_count"
   ]
  },
  {
   "cell_type": "code",
   "execution_count": null,
   "metadata": {},
   "outputs": [],
   "source": [
    "Ex8_nc_count[0]"
   ]
  },
  {
   "cell_type": "code",
   "execution_count": null,
   "metadata": {},
   "outputs": [],
   "source": [
    "vol_euro_count[0]"
   ]
  },
  {
   "cell_type": "code",
   "execution_count": null,
   "metadata": {},
   "outputs": [],
   "source": [
    "Non_Vol_count[0]"
   ]
  },
  {
   "cell_type": "code",
   "execution_count": null,
   "metadata": {},
   "outputs": [],
   "source": [
    "post_master_count[0]"
   ]
  },
  {
   "cell_type": "code",
   "execution_count": null,
   "metadata": {},
   "outputs": [],
   "source": []
  },
  {
   "cell_type": "code",
   "execution_count": null,
   "metadata": {},
   "outputs": [],
   "source": [
    "# Numbers check - if there is disagreement, then it will say (False, False) or only (False).\n",
    "\n",
    "seq8_dup_count + Ex8_nc_count[0] + vol_euro_count[0] + Non_Vol_count[0] == post_master_count[0]"
   ]
  },
  {
   "cell_type": "code",
   "execution_count": null,
   "metadata": {},
   "outputs": [],
   "source": []
  },
  {
   "cell_type": "code",
   "execution_count": null,
   "metadata": {},
   "outputs": [],
   "source": []
  },
  {
   "cell_type": "code",
   "execution_count": null,
   "metadata": {},
   "outputs": [],
   "source": []
  },
  {
   "cell_type": "code",
   "execution_count": null,
   "metadata": {},
   "outputs": [],
   "source": [
    "# May not need the below, as we already have a standalone file for EURO_Non-volunteer."
   ]
  },
  {
   "cell_type": "code",
   "execution_count": null,
   "metadata": {},
   "outputs": [],
   "source": [
    "# Find out the names of those EURO countries without new records\n",
    "\n",
    "import pandas as pd\n",
    "\n",
    "df = pd.read_excel('Country_List.xlsx', sheetname=0) # can also index sheet by name or fetch all sheets\n",
    "mylist_new = df['Not Cleansed'].dropna().unique().tolist()\n",
    "mylist_seq = df['Seq and Not Cleansed'].tolist()"
   ]
  },
  {
   "cell_type": "code",
   "execution_count": null,
   "metadata": {},
   "outputs": [],
   "source": [
    "len(mylist_seq)"
   ]
  },
  {
   "cell_type": "code",
   "execution_count": null,
   "metadata": {},
   "outputs": [],
   "source": [
    "len(mylist_new)"
   ]
  },
  {
   "cell_type": "code",
   "execution_count": null,
   "metadata": {},
   "outputs": [],
   "source": [
    "# Elements in the first list that are NOT in the second list\n",
    "\n",
    "non_vol_euro_list = list(set(mylist_seq)-set(mylist_new))\n",
    "sorted(non_vol_euro_list)"
   ]
  },
  {
   "cell_type": "code",
   "execution_count": null,
   "metadata": {},
   "outputs": [],
   "source": [
    "len(mylist_seq) - len(mylist_new)"
   ]
  },
  {
   "cell_type": "code",
   "execution_count": null,
   "metadata": {},
   "outputs": [],
   "source": []
  }
 ],
 "metadata": {
  "kernelspec": {
   "display_name": "Python 3.7.1 64-bit (conda)",
   "language": "python",
   "name": "python37164bitconda89fcf4a8419a4b028819c88c2e33bddc"
  },
  "language_info": {
   "codemirror_mode": {
    "name": "ipython",
    "version": 3
   },
   "file_extension": ".py",
   "mimetype": "text/x-python",
   "name": "python",
   "nbconvert_exporter": "python",
   "pygments_lexer": "ipython3",
   "version": "3.7.1"
  }
 },
 "nbformat": 4,
 "nbformat_minor": 2
}
